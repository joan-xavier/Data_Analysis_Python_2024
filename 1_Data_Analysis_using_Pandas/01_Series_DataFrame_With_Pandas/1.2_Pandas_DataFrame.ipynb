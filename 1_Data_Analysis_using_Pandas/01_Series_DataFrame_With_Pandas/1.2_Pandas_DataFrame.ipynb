{
 "cells": [
  {
   "cell_type": "markdown",
   "id": "18a7f740-396f-4bef-999a-9cb61fd41d12",
   "metadata": {
    "id": "18a7f740-396f-4bef-999a-9cb61fd41d12"
   },
   "source": [
    "# __Pandas DataFrame__"
   ]
  },
  {
   "cell_type": "markdown",
   "id": "5f161e11-a92b-4765-a46b-1cec4d5f5b53",
   "metadata": {
    "id": "5f161e11-a92b-4765-a46b-1cec4d5f5b53"
   },
   "source": [
    "## __Agenda__\n",
    "\n",
    "- Introduction to Pandas DataFrame\n",
    "  * Creating a DataFrame Using Different Methods\n",
    "  * Accessing the DataFrame\n",
    "  * Understanding DataFrame Basics\n",
    "- Introduction to Statistical Operations in Pandas\n",
    "  * Descriptive Statistics\n",
    "  * Mean, Median, and Standard Deviation\n",
    "  * Correlation Analysis"
   ]
  },
  {
   "cell_type": "markdown",
   "id": "3093b1e7-64d6-4f8f-9495-82adee99866d",
   "metadata": {
    "id": "3093b1e7-64d6-4f8f-9495-82adee99866d"
   },
   "source": [
    "## __1. Introduction to Pandas DataFrame__"
   ]
  },
  {
   "cell_type": "markdown",
   "id": "f4f12ae3-83d5-4da6-883d-0b92ff4ec7e4",
   "metadata": {
    "id": "f4f12ae3-83d5-4da6-883d-0b92ff4ec7e4"
   },
   "source": [
    "### __1.1 Creating a DataFrame Using Different Methods__\n",
    "Creating a Pandas DataFrame is a fundamental step in data analysis and manipulation.\n",
    "- Diverse methods are available within Pandas to generate a DataFrame, addressing various data sources and structures.\n",
    "- Data, whether in Python dictionaries, lists, NumPy arrays, or external files such as CSV and Excel, can be seamlessly transformed into a structured tabular format by Pandas."
   ]
  },
  {
   "cell_type": "code",
   "execution_count": 1,
   "id": "eda81a89-1b27-453a-9440-4d911e24c383",
   "metadata": {
    "colab": {
     "base_uri": "https://localhost:8080/"
    },
    "executionInfo": {
     "elapsed": 1018,
     "status": "ok",
     "timestamp": 1716270961169,
     "user": {
      "displayName": "Ashish Jangid",
      "userId": "15170006874299393728"
     },
     "user_tz": -330
    },
    "id": "eda81a89-1b27-453a-9440-4d911e24c383",
    "outputId": "539eb1d4-69ff-4dfe-e52a-da1c20d8b385"
   },
   "outputs": [
    {
     "name": "stdout",
     "output_type": "stream",
     "text": [
      "      Name  Age  Salary\n",
      "0    Alice   25   50000\n",
      "1      Bob   30   60000\n",
      "2  Charlie   34   45000\n",
      "      Name  Age  Salary\n",
      "0    Alice   25   50000\n",
      "1      Bob   30   60000\n",
      "2  Charlie   22   45000\n",
      "      Name Age Salary\n",
      "0    Alice  25  50000\n",
      "1      Bob  30  60000\n",
      "2  Charlie  22  45000\n",
      "                     date         price  bedrooms  bathrooms  sqft_living  \\\n",
      "0     2014-05-02 00:00:00  3.130000e+05       3.0       1.50         1340   \n",
      "1     2014-05-02 00:00:00  2.384000e+06       5.0       2.50         3650   \n",
      "2     2014-05-02 00:00:00  3.420000e+05       3.0       2.00         1930   \n",
      "3     2014-05-02 00:00:00  4.200000e+05       3.0       2.25         2000   \n",
      "4     2014-05-02 00:00:00  5.500000e+05       4.0       2.50         1940   \n",
      "...                   ...           ...       ...        ...          ...   \n",
      "4595  2014-07-09 00:00:00  3.081667e+05       3.0       1.75         1510   \n",
      "4596  2014-07-09 00:00:00  5.343333e+05       3.0       2.50         1460   \n",
      "4597  2014-07-09 00:00:00  4.169042e+05       3.0       2.50         3010   \n",
      "4598  2014-07-10 00:00:00  2.034000e+05       4.0       2.00         2090   \n",
      "4599  2014-07-10 00:00:00  2.206000e+05       3.0       2.50         1490   \n",
      "\n",
      "      sqft_lot  floors  waterfront  view  condition  sqft_above  \\\n",
      "0         7912     1.5           0     0          3        1340   \n",
      "1         9050     2.0           0     4          5        3370   \n",
      "2        11947     1.0           0     0          4        1930   \n",
      "3         8030     1.0           0     0          4        1000   \n",
      "4        10500     1.0           0     0          4        1140   \n",
      "...        ...     ...         ...   ...        ...         ...   \n",
      "4595      6360     1.0           0     0          4        1510   \n",
      "4596      7573     2.0           0     0          3        1460   \n",
      "4597      7014     2.0           0     0          3        3010   \n",
      "4598      6630     1.0           0     0          3        1070   \n",
      "4599      8102     2.0           0     0          4        1490   \n",
      "\n",
      "      sqft_basement  yr_built  yr_renovated                    street  \\\n",
      "0                 0      1955          2005      18810 Densmore Ave N   \n",
      "1               280      1921             0           709 W Blaine St   \n",
      "2                 0      1966             0  26206-26214 143rd Ave SE   \n",
      "3              1000      1963             0           857 170th Pl NE   \n",
      "4               800      1976          1992         9105 170th Ave NE   \n",
      "...             ...       ...           ...                       ...   \n",
      "4595              0      1954          1979            501 N 143rd St   \n",
      "4596              0      1983          2009          14855 SE 10th Pl   \n",
      "4597              0      2009             0          759 Ilwaco Pl NE   \n",
      "4598           1020      1974             0         5148 S Creston St   \n",
      "4599              0      1990             0         18717 SE 258th St   \n",
      "\n",
      "           city  statezip country  \n",
      "0     Shoreline  WA 98133     USA  \n",
      "1       Seattle  WA 98119     USA  \n",
      "2          Kent  WA 98042     USA  \n",
      "3      Bellevue  WA 98008     USA  \n",
      "4       Redmond  WA 98052     USA  \n",
      "...         ...       ...     ...  \n",
      "4595    Seattle  WA 98133     USA  \n",
      "4596   Bellevue  WA 98007     USA  \n",
      "4597     Renton  WA 98059     USA  \n",
      "4598    Seattle  WA 98178     USA  \n",
      "4599  Covington  WA 98042     USA  \n",
      "\n",
      "[4600 rows x 18 columns]\n",
      "     sepal_length  sepal_width  petal_length  petal_width    species\n",
      "0             5.1          3.5           1.4          0.2     setosa\n",
      "1             4.9          3.0           1.4          0.2     setosa\n",
      "2             4.7          3.2           1.3          0.2     setosa\n",
      "3             4.6          3.1           1.5          0.2     setosa\n",
      "4             5.0          3.6           1.4          0.2     setosa\n",
      "..            ...          ...           ...          ...        ...\n",
      "145           6.7          3.0           5.2          2.3  virginica\n",
      "146           6.3          2.5           5.0          1.9  virginica\n",
      "147           6.5          3.0           5.2          2.0  virginica\n",
      "148           6.2          3.4           5.4          2.3  virginica\n",
      "149           5.9          3.0           5.1          1.8  virginica\n",
      "\n",
      "[150 rows x 5 columns]\n"
     ]
    }
   ],
   "source": [
    "import pandas as pd\n",
    "\n",
    "# Creating a DataFrame from a dictionary\n",
    "data_dict = {'Name': ['Alice', 'Bob', 'Charlie'],\n",
    "             'Age': [25, 30, 34],\n",
    "             'Salary': [50000, 60000, 45000]}\n",
    "\n",
    "df_dict = pd.DataFrame(data_dict)\n",
    "print(df_dict)\n",
    "\n",
    "# Creating a DataFrame from lists\n",
    "data_list = [['Alice', 25, 50000], ['Bob', 30, 60000], ['Charlie', 22, 45000]]\n",
    "\n",
    "# Defining column names\n",
    "columns = ['Name', 'Age', 'Salary']\n",
    "\n",
    "df_list = pd.DataFrame(data_list, columns=columns)\n",
    "print(df_list)\n",
    "\n",
    "# Creating a DataFrame from a NumPy array\n",
    "import numpy as np\n",
    "data_array = np.array([['Alice', 25, 50000],\n",
    "                       ['Bob', 30, 60000],\n",
    "                       ['Charlie', 22, 45000]])\n",
    "\n",
    "df_array = pd.DataFrame(data_array, columns=columns)\n",
    "print(df_array)\n",
    "\n",
    "# Creating a DataFrame from a CSV file\n",
    "df_csv = pd.read_csv('HousePrices.csv')\n",
    "print(df_csv)\n",
    "\n",
    "# Creating a DataFrame from an Excel file\n",
    "df_excel = pd.read_excel('Iris.xlsx')\n",
    "print(df_excel)"
   ]
  },
  {
   "cell_type": "markdown",
   "id": "555e022e-611a-4160-8239-6ce56fe9d29f",
   "metadata": {
    "id": "555e022e-611a-4160-8239-6ce56fe9d29f"
   },
   "source": [
    "### __1.2 Accessing the DataFrame__\n",
    "\n",
    "Accessing a Pandas DataFrame involves employing various methods for selecting and retrieving data, whether it be specific columns, rows, or individual cells.\n",
    "- Utilizing square brackets, iloc and loc indexers, and conditions, analysts can navigate and extract the necessary information from the DataFrame for further analysis and manipulation.\n",
    "- The flexibility of Pandas allows for both label-based and position-based indexing, offering a versatile toolkit for accessing and working with data efficiently."
   ]
  },
  {
   "cell_type": "code",
   "execution_count": 2,
   "id": "ec60049b-383f-4bd7-91fb-1a78332cc892",
   "metadata": {
    "colab": {
     "base_uri": "https://localhost:8080/"
    },
    "executionInfo": {
     "elapsed": 349,
     "status": "ok",
     "timestamp": 1716270966819,
     "user": {
      "displayName": "Ashish Jangid",
      "userId": "15170006874299393728"
     },
     "user_tz": -330
    },
    "id": "ec60049b-383f-4bd7-91fb-1a78332cc892",
    "outputId": "5ef49e11-4417-4754-e4a4-898cb76fe457"
   },
   "outputs": [
    {
     "name": "stdout",
     "output_type": "stream",
     "text": [
      "Single column:\n",
      "0     5\n",
      "1    15\n",
      "2     8\n",
      "Name: Column_name, dtype: int64\n",
      "\n",
      "Multiple columns:\n",
      "   Column1  Column2\n",
      "0       10      100\n",
      "1       20      200\n",
      "2       30      300\n",
      "\n",
      "Specific row:\n",
      "Column_name         5\n",
      "Column1            10\n",
      "Column2           100\n",
      "Another_column     25\n",
      "Name: 0, dtype: int64\n",
      "\n",
      "Filtered rows:\n",
      "   Column_name  Column1  Column2  Another_column\n",
      "1           15       20      200              35\n",
      "\n",
      "Single cell by label:\n",
      "5\n",
      "\n",
      "Single cell by position:\n",
      "10\n",
      "\n",
      "Data using .loc:\n",
      "5\n",
      "\n",
      "Conditional access:\n",
      "1    35\n",
      "Name: Another_column, dtype: int64\n"
     ]
    }
   ],
   "source": [
    "import pandas as pd\n",
    "\n",
    "# Creating a sample DataFrame\n",
    "data = {'Column_name': [5, 15, 8],\n",
    "        'Column1': [10, 20, 30],\n",
    "        'Column2': [100, 200, 300],\n",
    "        'Another_column': [25, 35, 45]}\n",
    "\n",
    "df = pd.DataFrame(data)\n",
    "\n",
    "# Accessing a single column\n",
    "column_data = df['Column_name']\n",
    "print(\"Single column:\")\n",
    "print(column_data)\n",
    "\n",
    "# Accessing multiple columns\n",
    "selected_columns = df[['Column1', 'Column2']]\n",
    "print(\"\\nMultiple columns:\")\n",
    "print(selected_columns)\n",
    "\n",
    "# Accessing a specific row by index\n",
    "row_data = df.iloc[0]\n",
    "print(\"\\nSpecific row:\")\n",
    "print(row_data)\n",
    "\n",
    "# Accessing rows based on a condition\n",
    "filtered_rows = df[df['Column_name'] > 10]\n",
    "print(\"\\nFiltered rows:\")\n",
    "print(filtered_rows)\n",
    "\n",
    "# Accessing a single cell by label\n",
    "value = df.at[0, 'Column_name']\n",
    "print(\"\\nSingle cell by label:\")\n",
    "print(value)\n",
    "\n",
    "# Accessing a single cell by position\n",
    "value = df.iat[0, 1]  # Row 0, Column 1\n",
    "print(\"\\nSingle cell by position:\")\n",
    "print(value)\n",
    "\n",
    "# Accessing data using .loc\n",
    "selected_data = df.loc[0, 'Column_name']\n",
    "print(\"\\nData using .loc:\")\n",
    "print(selected_data)\n",
    "\n",
    "# Conditional access\n",
    "selected_data = df[df['Column_name'] > 10]['Another_column']\n",
    "print(\"\\nConditional access:\")\n",
    "print(selected_data)\n"
   ]
  },
  {
   "cell_type": "markdown",
   "id": "c4b37718-a43f-4eee-aea1-c2e896c84b8d",
   "metadata": {
    "id": "c4b37718-a43f-4eee-aea1-c2e896c84b8d"
   },
   "source": [
    "### __1.3 Understanding DataFrame Basics__\n",
    "- The head() and tail() methods enable users to efficiently preview the initial and final rows of a DataFrame, offering a quick snapshot of its structure and content.\n",
    "- These functions are invaluable for a preliminary assessment of column names, data types, and potential issues. Additionally, the info() method provides a comprehensive summary, detailing data types, non-null counts, and memory usage, aiding in the identification of missing or inconsistent data.\n",
    "- The shape attribute, on the other hand, succinctly communicates the dimensions of the DataFrame, encapsulating the number of rows and columns.\n",
    "- The syntax for some functions is provided below:"
   ]
  },
  {
   "cell_type": "code",
   "execution_count": 3,
   "id": "cc6ba427-60e1-4a47-80f4-30b797ce7b08",
   "metadata": {
    "colab": {
     "base_uri": "https://localhost:8080/"
    },
    "executionInfo": {
     "elapsed": 402,
     "status": "ok",
     "timestamp": 1716270971697,
     "user": {
      "displayName": "Ashish Jangid",
      "userId": "15170006874299393728"
     },
     "user_tz": -330
    },
    "id": "cc6ba427-60e1-4a47-80f4-30b797ce7b08",
    "outputId": "a8816602-c87d-43d9-d5b4-6c56166becc1"
   },
   "outputs": [
    {
     "name": "stdout",
     "output_type": "stream",
     "text": [
      "First 2 rows:\n",
      "   Column_name  Column1  Column2  Another_column\n",
      "0            5       10      100              25\n",
      "1           15       20      200              35\n",
      "\n",
      "Last row:\n",
      "   Column_name  Column1  Column2  Another_column\n",
      "2            8       30      300              45\n",
      "\n",
      "DataFrame summary:\n",
      "<class 'pandas.core.frame.DataFrame'>\n",
      "RangeIndex: 3 entries, 0 to 2\n",
      "Data columns (total 4 columns):\n",
      " #   Column          Non-Null Count  Dtype\n",
      "---  ------          --------------  -----\n",
      " 0   Column_name     3 non-null      int64\n",
      " 1   Column1         3 non-null      int64\n",
      " 2   Column2         3 non-null      int64\n",
      " 3   Another_column  3 non-null      int64\n",
      "dtypes: int64(4)\n",
      "memory usage: 228.0 bytes\n",
      "\n",
      "DataFrame dimensions:\n",
      "(3, 4)\n"
     ]
    }
   ],
   "source": [
    "import pandas as pd\n",
    "\n",
    "# Create a sample DataFrame\n",
    "data = {'Column_name': [5, 15, 8],\n",
    "        'Column1': [10, 20, 30],\n",
    "        'Column2': [100, 200, 300],\n",
    "        'Another_column': [25, 35, 45]}\n",
    "\n",
    "df = pd.DataFrame(data)\n",
    "\n",
    "# Display the first 2 rows\n",
    "print(\"First 2 rows:\")\n",
    "print(df.head(2))\n",
    "\n",
    "# Display the last row\n",
    "print(\"\\nLast row:\")\n",
    "print(df.tail(1))\n",
    "\n",
    "# Provide a comprehensive summary of the DataFrame\n",
    "print(\"\\nDataFrame summary:\")\n",
    "df.info()\n",
    "\n",
    "# Return a tuple representing the dimensions of the DataFrame (Rows, columns)\n",
    "print(\"\\nDataFrame dimensions:\")\n",
    "print(df.shape)\n"
   ]
  },
  {
   "cell_type": "markdown",
   "id": "8c53b5ea-e217-4590-a746-a30ee7fc0136",
   "metadata": {
    "id": "8c53b5ea-e217-4590-a746-a30ee7fc0136"
   },
   "source": [
    "## __2. Introduction to Statistical Operations in Pandas__\n",
    "Pandas supports the computation of fundamental measures such as mean and median, along with the exploration of correlations and distribution characteristics.\n",
    "\n",
    "The following examples illustrate key statistical operations available in Pandas:"
   ]
  },
  {
   "cell_type": "markdown",
   "id": "fbfd9f4c-3272-4682-9b8d-dd2150b1f514",
   "metadata": {
    "id": "fbfd9f4c-3272-4682-9b8d-dd2150b1f514"
   },
   "source": [
    "### __2.1 Descriptive Statistics__\n",
    "It offers a snapshot of the dataset's central tendencies and dispersions.\n",
    "\n",
    "The describe() function provides a quick summary, including mean, standard deviation, and quartile information."
   ]
  },
  {
   "cell_type": "code",
   "execution_count": 4,
   "id": "6e589afe-ef2f-4a16-b9bd-3c102b992d52",
   "metadata": {
    "colab": {
     "base_uri": "https://localhost:8080/"
    },
    "executionInfo": {
     "elapsed": 368,
     "status": "ok",
     "timestamp": 1716270974970,
     "user": {
      "displayName": "Ashish Jangid",
      "userId": "15170006874299393728"
     },
     "user_tz": -330
    },
    "id": "6e589afe-ef2f-4a16-b9bd-3c102b992d52",
    "outputId": "13652ed9-bd38-4cf2-c952-43ef8437879a"
   },
   "outputs": [
    {
     "name": "stdout",
     "output_type": "stream",
     "text": [
      "Descriptive statistics for numeric columns:\n",
      "       Numeric_column1  Numeric_column2  Numeric_column3\n",
      "count         3.000000              3.0              3.0\n",
      "mean          9.333333             20.0            200.0\n",
      "std           5.131601             10.0            100.0\n",
      "min           5.000000             10.0            100.0\n",
      "25%           6.500000             15.0            150.0\n",
      "50%           8.000000             20.0            200.0\n",
      "75%          11.500000             25.0            250.0\n",
      "max          15.000000             30.0            300.0\n"
     ]
    }
   ],
   "source": [
    "import pandas as pd\n",
    "\n",
    "# Create a sample DataFrame with numeric columns\n",
    "data = {'Numeric_column1': [5, 15, 8],\n",
    "        'Numeric_column2': [10, 20, 30],\n",
    "        'Numeric_column3': [100, 200, 300]}\n",
    "\n",
    "df = pd.DataFrame(data)\n",
    "\n",
    "# Display descriptive statistics for numeric columns\n",
    "print(\"Descriptive statistics for numeric columns:\")\n",
    "print(df.describe())\n"
   ]
  },
  {
   "cell_type": "markdown",
   "id": "91e99a26-a143-4bdb-856f-1ec069ce6451",
   "metadata": {
    "id": "91e99a26-a143-4bdb-856f-1ec069ce6451"
   },
   "source": [
    "### __2.1 Mean, Median, and Standard Deviation__"
   ]
  },
  {
   "cell_type": "code",
   "execution_count": 5,
   "id": "d2e147e1-b9c1-47ab-8873-98ba11dce8aa",
   "metadata": {
    "colab": {
     "base_uri": "https://localhost:8080/"
    },
    "executionInfo": {
     "elapsed": 600,
     "status": "ok",
     "timestamp": 1716270978102,
     "user": {
      "displayName": "Ashish Jangid",
      "userId": "15170006874299393728"
     },
     "user_tz": -330
    },
    "id": "d2e147e1-b9c1-47ab-8873-98ba11dce8aa",
    "outputId": "834693a2-b18b-4ea7-c6b3-a1ffae1ebbc2"
   },
   "outputs": [
    {
     "name": "stdout",
     "output_type": "stream",
     "text": [
      "Mean:\n",
      " Numeric_column1      9.333333\n",
      "Numeric_column2     20.000000\n",
      "Numeric_column3    200.000000\n",
      "dtype: float64\n",
      "\n",
      "Median:\n",
      " Numeric_column1      8.0\n",
      "Numeric_column2     20.0\n",
      "Numeric_column3    200.0\n",
      "dtype: float64\n",
      "\n",
      "Standard deviation:\n",
      " Numeric_column1      5.131601\n",
      "Numeric_column2     10.000000\n",
      "Numeric_column3    100.000000\n",
      "dtype: float64\n"
     ]
    }
   ],
   "source": [
    "import pandas as pd\n",
    "\n",
    "# Create a sample DataFrame with numeric columns\n",
    "data = {'Numeric_column1': [5, 15, 8],\n",
    "        'Numeric_column2': [10, 20, 30],\n",
    "        'Numeric_column3': [100, 200, 300]}\n",
    "\n",
    "df = pd.DataFrame(data)\n",
    "\n",
    "# Calculate mean, median, and standard deviation\n",
    "mean_value = df.mean()\n",
    "median_value = df.median()\n",
    "std_deviation = df.std()\n",
    "\n",
    "print(\"Mean:\\n\", mean_value)\n",
    "print(\"\\nMedian:\\n\", median_value)\n",
    "print(\"\\nStandard deviation:\\n\", std_deviation)\n"
   ]
  },
  {
   "cell_type": "markdown",
   "id": "1e0cdfe3-7794-441c-aa11-ee5568948a04",
   "metadata": {
    "id": "1e0cdfe3-7794-441c-aa11-ee5568948a04"
   },
   "source": [
    "### __2.2 Correlation Analysis__\n",
    "The corr() function generates a correlation matrix, indicating how variables relate to each other.\n",
    "\n",
    "Values closer to 1 or -1 imply a stronger correlation, while values near 0 suggest a weaker correlation."
   ]
  },
  {
   "cell_type": "code",
   "execution_count": 6,
   "id": "49f0a61a-7235-406c-93c6-a0b058c2290c",
   "metadata": {
    "colab": {
     "base_uri": "https://localhost:8080/"
    },
    "executionInfo": {
     "elapsed": 367,
     "status": "ok",
     "timestamp": 1716270981271,
     "user": {
      "displayName": "Ashish Jangid",
      "userId": "15170006874299393728"
     },
     "user_tz": -330
    },
    "id": "49f0a61a-7235-406c-93c6-a0b058c2290c",
    "outputId": "9564ef58-d212-4b1e-e471-0ed16a5865cc"
   },
   "outputs": [
    {
     "name": "stdout",
     "output_type": "stream",
     "text": [
      "Correlation matrix:\n",
      "                  Numeric_column1  Numeric_column2  Numeric_column3\n",
      "Numeric_column1         1.000000         0.292306         0.292306\n",
      "Numeric_column2         0.292306         1.000000         1.000000\n",
      "Numeric_column3         0.292306         1.000000         1.000000\n"
     ]
    }
   ],
   "source": [
    "import pandas as pd\n",
    "\n",
    "# Create a sample DataFrame with numeric columns\n",
    "data = {'Numeric_column1': [5, 15, 8],\n",
    "        'Numeric_column2': [10, 20, 30],\n",
    "        'Numeric_column3': [100, 200, 300]}\n",
    "\n",
    "df = pd.DataFrame(data)\n",
    "\n",
    "# Compute correlation matrix\n",
    "correlation_matrix = df.corr()\n",
    "\n",
    "print(\"Correlation matrix:\\n\", correlation_matrix)\n"
   ]
  },
  {
   "cell_type": "markdown",
   "id": "5c6ed3c2-5514-4835-a80e-8dc98fa9bdae",
   "metadata": {
    "id": "5c6ed3c2-5514-4835-a80e-8dc98fa9bdae"
   },
   "source": [
    "#### __Value Counts__\n",
    "The value_counts() function tallies the occurrences of unique values in a categorical column, aiding in understanding the distribution of categorical data."
   ]
  },
  {
   "cell_type": "code",
   "execution_count": 7,
   "id": "a05de1b4-8843-4e35-bfc2-54f396dc632d",
   "metadata": {
    "colab": {
     "base_uri": "https://localhost:8080/"
    },
    "executionInfo": {
     "elapsed": 355,
     "status": "ok",
     "timestamp": 1716270985094,
     "user": {
      "displayName": "Ashish Jangid",
      "userId": "15170006874299393728"
     },
     "user_tz": -330
    },
    "id": "a05de1b4-8843-4e35-bfc2-54f396dc632d",
    "outputId": "bbf52632-e01e-4c26-ee61-69a31801980e"
   },
   "outputs": [
    {
     "name": "stdout",
     "output_type": "stream",
     "text": [
      "Value counts:\n",
      " Category\n",
      "A    4\n",
      "B    3\n",
      "C    3\n",
      "Name: count, dtype: int64\n"
     ]
    }
   ],
   "source": [
    "import pandas as pd\n",
    "\n",
    "# Create a sample DataFrame with a category column\n",
    "data = {'Category': ['A', 'B', 'A', 'C', 'B', 'A', 'C', 'A', 'B', 'C']}\n",
    "df = pd.DataFrame(data)\n",
    "\n",
    "# Count occurrences of unique values in the category column\n",
    "value_counts = df['Category'].value_counts()\n",
    "\n",
    "print(\"Value counts:\\n\", value_counts)\n"
   ]
  },
  {
   "cell_type": "markdown",
   "id": "da230e3d-1147-49a2-9411-17169d445e4c",
   "metadata": {
    "id": "da230e3d-1147-49a2-9411-17169d445e4c"
   },
   "source": [
    "# __Practice Work :__"
   ]
  },
  {
   "cell_type": "markdown",
   "id": "5eab7ef8-642c-4d4c-9e95-056dbabc2316",
   "metadata": {
    "id": "5eab7ef8-642c-4d4c-9e95-056dbabc2316"
   },
   "source": [
    "## __Problem Statement:__\n",
    "Analyze a housing dataset using Pandas DataFrame and statistical operations to understand the basic characteristics of the data and the relationships between different variables."
   ]
  },
  {
   "cell_type": "markdown",
   "id": "f05d2491-7333-4512-b201-ab574733f9e9",
   "metadata": {
    "id": "f05d2491-7333-4512-b201-ab574733f9e9"
   },
   "source": [
    "## __Steps to Perform:__\n",
    "- Load the housing dataset into a Pandas DataFrame\n",
    "- Familiarize with the DataFrame basics such as its structure, data types of the columns, and summary statistics\n",
    "- Calculate descriptive statistics like mean, median, and standard deviation for numerical columns such as __LotArea__, __YearBuilt__, __1stFlrSF__, __2ndFlrSF__, and __SalePrice__\n",
    "- Determine the correlation between different numerical variables such as __LotArea__ and __SalePrice__, __YearBuilt__ and __SalePrice__, __1stFlrSF__ and __SalePrice__, and __2ndFlrSF__ and __SalePrice__\n",
    "- Count the number of occurrences of each category in categorical variables such as __Neighborhood__, __BldgType__, and __HouseStyle__"
   ]
  },
  {
   "cell_type": "code",
   "execution_count": 8,
   "id": "d53927ac",
   "metadata": {},
   "outputs": [
    {
     "name": "stdout",
     "output_type": "stream",
     "text": [
      "DataFrame Structure:\n",
      "<class 'pandas.core.frame.DataFrame'>\n",
      "RangeIndex: 1460 entries, 0 to 1459\n",
      "Data columns (total 81 columns):\n",
      " #   Column         Non-Null Count  Dtype  \n",
      "---  ------         --------------  -----  \n",
      " 0   Unnamed: 0     1460 non-null   int64  \n",
      " 1   MSSubClass     1460 non-null   object \n",
      " 2   MSZoning       1460 non-null   object \n",
      " 3   LotFrontage    1460 non-null   float64\n",
      " 4   LotArea        1460 non-null   int64  \n",
      " 5   Street         1460 non-null   object \n",
      " 6   Alley          91 non-null     object \n",
      " 7   LotShape       1460 non-null   object \n",
      " 8   LandContour    1460 non-null   object \n",
      " 9   Utilities      1460 non-null   object \n",
      " 10  LotConfig      1460 non-null   object \n",
      " 11  LandSlope      1460 non-null   object \n",
      " 12  Neighborhood   1460 non-null   object \n",
      " 13  Condition1     1460 non-null   object \n",
      " 14  Condition2     1460 non-null   object \n",
      " 15  BldgType       1460 non-null   object \n",
      " 16  HouseStyle     1460 non-null   object \n",
      " 17  OverallQual    1460 non-null   int64  \n",
      " 18  OverallCond    1460 non-null   int64  \n",
      " 19  YearBuilt      1460 non-null   int64  \n",
      " 20  YearRemodAdd   1460 non-null   int64  \n",
      " 21  RoofStyle      1460 non-null   object \n",
      " 22  RoofMatl       1460 non-null   object \n",
      " 23  Exterior1st    1460 non-null   object \n",
      " 24  Exterior2nd    1460 non-null   object \n",
      " 25  MasVnrType     588 non-null    object \n",
      " 26  MasVnrArea     1460 non-null   float64\n",
      " 27  ExterQual      1460 non-null   object \n",
      " 28  ExterCond      1460 non-null   object \n",
      " 29  Foundation     1460 non-null   object \n",
      " 30  BsmtQual       1460 non-null   object \n",
      " 31  BsmtCond       1460 non-null   object \n",
      " 32  BsmtExposure   1460 non-null   object \n",
      " 33  BsmtFinType1   1460 non-null   object \n",
      " 34  BsmtFinSF1     1460 non-null   int64  \n",
      " 35  BsmtFinType2   1460 non-null   object \n",
      " 36  BsmtFinSF2     1460 non-null   int64  \n",
      " 37  BsmtUnfSF      1460 non-null   int64  \n",
      " 38  TotalBsmtSF    1460 non-null   int64  \n",
      " 39  Heating        1460 non-null   object \n",
      " 40  HeatingQC      1460 non-null   object \n",
      " 41  CentralAir     1460 non-null   object \n",
      " 42  Electrical     1459 non-null   object \n",
      " 43  1stFlrSF       1460 non-null   int64  \n",
      " 44  2ndFlrSF       1460 non-null   int64  \n",
      " 45  LowQualFinSF   1460 non-null   int64  \n",
      " 46  GrLivArea      1460 non-null   int64  \n",
      " 47  BsmtFullBath   1460 non-null   int64  \n",
      " 48  BsmtHalfBath   1460 non-null   int64  \n",
      " 49  FullBath       1460 non-null   int64  \n",
      " 50  HalfBath       1460 non-null   int64  \n",
      " 51  BedroomAbvGr   1460 non-null   int64  \n",
      " 52  KitchenAbvGr   1460 non-null   int64  \n",
      " 53  KitchenQual    1460 non-null   object \n",
      " 54  TotRmsAbvGrd   1460 non-null   int64  \n",
      " 55  Functional     1460 non-null   object \n",
      " 56  Fireplaces     1460 non-null   int64  \n",
      " 57  FireplaceQu    1460 non-null   object \n",
      " 58  GarageType     1460 non-null   object \n",
      " 59  GarageYrBlt    1379 non-null   float64\n",
      " 60  GarageFinish   1460 non-null   object \n",
      " 61  GarageCars     1460 non-null   int64  \n",
      " 62  GarageArea     1460 non-null   int64  \n",
      " 63  GarageQual     1460 non-null   object \n",
      " 64  GarageCond     1460 non-null   object \n",
      " 65  PavedDrive     1460 non-null   object \n",
      " 66  WoodDeckSF     1460 non-null   int64  \n",
      " 67  OpenPorchSF    1460 non-null   int64  \n",
      " 68  EnclosedPorch  1460 non-null   int64  \n",
      " 69  3SsnPorch      1460 non-null   int64  \n",
      " 70  ScreenPorch    1460 non-null   int64  \n",
      " 71  PoolArea       1460 non-null   int64  \n",
      " 72  PoolQC         1460 non-null   object \n",
      " 73  Fence          1460 non-null   object \n",
      " 74  MiscFeature    1460 non-null   object \n",
      " 75  MiscVal        1460 non-null   int64  \n",
      " 76  MoSold         1460 non-null   object \n",
      " 77  YrSold         1460 non-null   int64  \n",
      " 78  SaleType       1460 non-null   object \n",
      " 79  SaleCondition  1460 non-null   object \n",
      " 80  SalePrice      1460 non-null   int64  \n",
      "dtypes: float64(3), int64(33), object(45)\n",
      "memory usage: 924.0+ KB\n",
      "None\n",
      "\n",
      "Summary Statistics:\n",
      "        Unnamed: 0  LotFrontage        LotArea  OverallQual  OverallCond  \\\n",
      "count  1460.000000  1460.000000    1460.000000  1460.000000  1460.000000   \n",
      "mean    729.500000    57.623288   10516.828082     6.099315     5.575342   \n",
      "std     421.610009    34.664304    9981.264932     1.382997     1.112799   \n",
      "min       0.000000     0.000000    1300.000000     1.000000     1.000000   \n",
      "25%     364.750000    42.000000    7553.500000     5.000000     5.000000   \n",
      "50%     729.500000    63.000000    9478.500000     6.000000     5.000000   \n",
      "75%    1094.250000    79.000000   11601.500000     7.000000     6.000000   \n",
      "max    1459.000000   313.000000  215245.000000    10.000000     9.000000   \n",
      "\n",
      "         YearBuilt  YearRemodAdd   MasVnrArea   BsmtFinSF1   BsmtFinSF2  ...  \\\n",
      "count  1460.000000   1460.000000  1460.000000  1460.000000  1460.000000  ...   \n",
      "mean   1971.267808   1984.865753   103.117123   443.639726    46.549315  ...   \n",
      "std      30.202904     20.645407   180.731373   456.098091   161.319273  ...   \n",
      "min    1872.000000   1950.000000     0.000000     0.000000     0.000000  ...   \n",
      "25%    1954.000000   1967.000000     0.000000     0.000000     0.000000  ...   \n",
      "50%    1973.000000   1994.000000     0.000000   383.500000     0.000000  ...   \n",
      "75%    2000.000000   2004.000000   164.250000   712.250000     0.000000  ...   \n",
      "max    2010.000000   2010.000000  1600.000000  5644.000000  1474.000000  ...   \n",
      "\n",
      "        GarageArea   WoodDeckSF  OpenPorchSF  EnclosedPorch    3SsnPorch  \\\n",
      "count  1460.000000  1460.000000  1460.000000    1460.000000  1460.000000   \n",
      "mean    472.980137    94.244521    46.660274      21.954110     3.409589   \n",
      "std     213.804841   125.338794    66.256028      61.119149    29.317331   \n",
      "min       0.000000     0.000000     0.000000       0.000000     0.000000   \n",
      "25%     334.500000     0.000000     0.000000       0.000000     0.000000   \n",
      "50%     480.000000     0.000000    25.000000       0.000000     0.000000   \n",
      "75%     576.000000   168.000000    68.000000       0.000000     0.000000   \n",
      "max    1418.000000   857.000000   547.000000     552.000000   508.000000   \n",
      "\n",
      "       ScreenPorch     PoolArea       MiscVal       YrSold      SalePrice  \n",
      "count  1460.000000  1460.000000   1460.000000  1460.000000    1460.000000  \n",
      "mean     15.060959     2.758904     43.489041  2007.815753  180921.195890  \n",
      "std      55.757415    40.177307    496.123024     1.328095   79442.502883  \n",
      "min       0.000000     0.000000      0.000000  2006.000000   34900.000000  \n",
      "25%       0.000000     0.000000      0.000000  2007.000000  129975.000000  \n",
      "50%       0.000000     0.000000      0.000000  2008.000000  163000.000000  \n",
      "75%       0.000000     0.000000      0.000000  2009.000000  214000.000000  \n",
      "max     480.000000   738.000000  15500.000000  2010.000000  755000.000000  \n",
      "\n",
      "[8 rows x 36 columns]\n",
      "\n",
      "Statistics for LotArea:\n",
      "Mean: 10516.83\n",
      "Median: 9478.50\n",
      "Standard Deviation: 9981.26\n",
      "\n",
      "Statistics for YearBuilt:\n",
      "Mean: 1971.27\n",
      "Median: 1973.00\n",
      "Standard Deviation: 30.20\n",
      "\n",
      "Statistics for 1stFlrSF:\n",
      "Mean: 1162.63\n",
      "Median: 1087.00\n",
      "Standard Deviation: 386.59\n",
      "\n",
      "Statistics for 2ndFlrSF:\n",
      "Mean: 346.99\n",
      "Median: 0.00\n",
      "Standard Deviation: 436.53\n",
      "\n",
      "Statistics for SalePrice:\n",
      "Mean: 180921.20\n",
      "Median: 163000.00\n",
      "Standard Deviation: 79442.50\n",
      "\n",
      "Correlation between selected variables:\n",
      "Correlation between LotArea and SalePrice: 0.26\n",
      "Correlation between YearBuilt and SalePrice: 0.52\n",
      "Correlation between 1stFlrSF and SalePrice: 0.61\n",
      "Correlation between 2ndFlrSF and SalePrice: 0.32\n",
      "\n",
      "Category counts for Neighborhood:\n",
      "Neighborhood\n",
      "NAmes      225\n",
      "CollgCr    150\n",
      "OldTown    113\n",
      "Edwards    100\n",
      "Somerst     86\n",
      "Gilbert     79\n",
      "NridgHt     77\n",
      "Sawyer      74\n",
      "NWAmes      73\n",
      "SawyerW     59\n",
      "BrkSide     58\n",
      "Crawfor     51\n",
      "Mitchel     49\n",
      "NoRidge     41\n",
      "Timber      38\n",
      "IDOTRR      37\n",
      "ClearCr     28\n",
      "StoneBr     25\n",
      "SWISU       25\n",
      "MeadowV     17\n",
      "Blmngtn     17\n",
      "BrDale      16\n",
      "Veenker     11\n",
      "NPkVill      9\n",
      "Blueste      2\n",
      "Name: count, dtype: int64\n",
      "\n",
      "Category counts for BldgType:\n",
      "BldgType\n",
      "1Fam      1220\n",
      "TwnhsE     114\n",
      "Duplex      52\n",
      "Twnhs       43\n",
      "2fmCon      31\n",
      "Name: count, dtype: int64\n",
      "\n",
      "Category counts for HouseStyle:\n",
      "HouseStyle\n",
      "1Story    726\n",
      "2Story    445\n",
      "1.5Fin    154\n",
      "SLvl       65\n",
      "SFoyer     37\n",
      "1.5Unf     14\n",
      "2.5Unf     11\n",
      "2.5Fin      8\n",
      "Name: count, dtype: int64\n"
     ]
    }
   ],
   "source": [
    "import pandas as pd\n",
    "\n",
    "# Load the dataset\n",
    "housing_data = pd.read_csv(\"housing_data.csv\")\n",
    "\n",
    "# Display basic structure and data types of the DataFrame\n",
    "print(\"DataFrame Structure:\")\n",
    "print(housing_data.info())\n",
    "\n",
    "# Display summary statistics for numerical columns\n",
    "print(\"\\nSummary Statistics:\")\n",
    "print(housing_data.describe())\n",
    "\n",
    "# Calculate mean, median, and standard deviation for selected numerical columns\n",
    "numerical_columns = ['LotArea', 'YearBuilt', '1stFlrSF', '2ndFlrSF', 'SalePrice']\n",
    "for col in numerical_columns:\n",
    "    print(f\"\\nStatistics for {col}:\")\n",
    "    print(f\"Mean: {housing_data[col].mean():.2f}\")\n",
    "    print(f\"Median: {housing_data[col].median():.2f}\")\n",
    "    print(f\"Standard Deviation: {housing_data[col].std():.2f}\")\n",
    "\n",
    "# Calculate correlation between selected numerical variables\n",
    "correlation_pairs = [\n",
    "    ('LotArea', 'SalePrice'),\n",
    "    ('YearBuilt', 'SalePrice'),\n",
    "    ('1stFlrSF', 'SalePrice'),\n",
    "    ('2ndFlrSF', 'SalePrice')\n",
    "]\n",
    "\n",
    "print(\"\\nCorrelation between selected variables:\")\n",
    "for col1, col2 in correlation_pairs:\n",
    "    correlation = housing_data[col1].corr(housing_data[col2])\n",
    "    print(f\"Correlation between {col1} and {col2}: {correlation:.2f}\")\n",
    "\n",
    "# Count occurrences of each category in categorical variables\n",
    "categorical_columns = ['Neighborhood', 'BldgType', 'HouseStyle']\n",
    "for col in categorical_columns:\n",
    "    print(f\"\\nCategory counts for {col}:\")\n",
    "    print(housing_data[col].value_counts())\n"
   ]
  }
 ],
 "metadata": {
  "colab": {
   "provenance": []
  },
  "kernelspec": {
   "display_name": "env1",
   "language": "python",
   "name": "python3"
  },
  "language_info": {
   "codemirror_mode": {
    "name": "ipython",
    "version": 3
   },
   "file_extension": ".py",
   "mimetype": "text/x-python",
   "name": "python",
   "nbconvert_exporter": "python",
   "pygments_lexer": "ipython3",
   "version": "3.11.11"
  }
 },
 "nbformat": 4,
 "nbformat_minor": 5
}
