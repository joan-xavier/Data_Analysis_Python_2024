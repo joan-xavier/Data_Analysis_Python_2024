{
 "cells": [
  {
   "cell_type": "markdown",
   "id": "3c67c867-cf82-4fe0-89d8-d0634263d9ec",
   "metadata": {
    "id": "3c67c867-cf82-4fe0-89d8-d0634263d9ec",
    "tags": []
   },
   "source": [
    "# **Introduction to Pandas**\n",
    "Pandas is an open-source library built on top of NumPy and is used for data manipulation.\n",
    "\n",
    "- It introduces data structures like DataFrame and Series that make working with structured data more efficient."
   ]
  },
  {
   "cell_type": "markdown",
   "id": "9d32a3ac-eae3-4851-812d-2326cd6823b3",
   "metadata": {
    "id": "9d32a3ac-eae3-4851-812d-2326cd6823b3"
   },
   "source": [
    "## Introduction to Series\n",
    "  * Creating and Accessing Pandas Series Using Different Methods\n",
    "  * Basic Information in Pandas Series\n",
    "  * Operations and Transformations in Pandas Series\n",
    "  * Querying a Series"
   ]
  },
  {
   "cell_type": "markdown",
   "id": "a385195c-3486-45c5-8ce2-5c69d5200843",
   "metadata": {
    "id": "a385195c-3486-45c5-8ce2-5c69d5200843"
   },
   "source": [
    "##  Fundamentals of Pandas"
   ]
  },
  {
   "cell_type": "markdown",
   "id": "28a48d44-ce86-4c0d-a727-da25f8b42807",
   "metadata": {
    "id": "28a48d44-ce86-4c0d-a727-da25f8b42807",
    "tags": []
   },
   "source": [
    "###  Creating and Accessing Pandas Series Using Different Methods:"
   ]
  },
  {
   "cell_type": "code",
   "execution_count": 19,
   "id": "b8aee64c-fb77-4a00-abfd-7a9ff29a2b6a",
   "metadata": {
    "id": "b8aee64c-fb77-4a00-abfd-7a9ff29a2b6a",
    "outputId": "ff2670f3-fca3-4911-bc70-432ad36926ca"
   },
   "outputs": [
    {
     "name": "stdout",
     "output_type": "stream",
     "text": [
      "3\n",
      "2\n"
     ]
    }
   ],
   "source": [
    "import pandas as pd\n",
    "\n",
    "# Creating a Pandas Series from a list\n",
    "data = [1, 2, 3, 4, 5]\n",
    "series = pd.Series(data)\n",
    "\n",
    "# Creating a Pandas Series with a specified index\n",
    "index = ['a', 'b', 'c', 'd', 'e']\n",
    "series_with_index = pd.Series(data, index=index)\n",
    "\n",
    "# Creating a Pandas Series from a dictionary\n",
    "data_dict = {'a': 1, 'b': 2, 'c': 3, 'd': 4, 'e': 5}\n",
    "series_from_dict = pd.Series(data_dict)\n",
    "\n",
    "# Accessing data in a Series\n",
    "print(series[2])  # Accessing element at index 2\n",
    "print(series_with_index['b'])  # Accessing element with index 'b'"
   ]
  },
  {
   "cell_type": "markdown",
   "id": "60772331-3d1f-442d-8d6e-91263a8e8d9f",
   "metadata": {
    "id": "60772331-3d1f-442d-8d6e-91263a8e8d9f"
   },
   "source": [
    "### Basic Information in Pandas Series__\n",
    "These functions collectively help analysts summarize and understand the characteristics of the data, facilitating effective data exploration and analysis."
   ]
  },
  {
   "cell_type": "code",
   "execution_count": 20,
   "id": "a471e39a-64fd-4f8f-9b49-185680e8feec",
   "metadata": {
    "id": "a471e39a-64fd-4f8f-9b49-185680e8feec"
   },
   "outputs": [],
   "source": [
    "# Return the first n rows\n",
    "first_n_rows = series.head(3)\n",
    "\n",
    "# Return the last n rows\n",
    "last_n_rows = series.tail(3)\n",
    "\n",
    "# Return dimensions (Rows, columns)\n",
    "dimensions = series.shape\n",
    "\n",
    "# Generate descriptive statistics\n",
    "stats = series.describe()\n",
    "\n",
    "# Return unique values\n",
    "unique_values = series.unique()\n",
    "\n",
    "# Return the number of unique values\n",
    "num_unique_values = series.nunique()"
   ]
  },
  {
   "cell_type": "markdown",
   "id": "1a1a87d2-e7ce-41fb-87c9-7670bf341fce",
   "metadata": {
    "id": "1a1a87d2-e7ce-41fb-87c9-7670bf341fce"
   },
   "source": [
    "###  Operations and Transformations in Pandas Series__\n",
    "Operations and transformations in Pandas Series are crucial for modifying, enhancing, and cleaning data effectively.\n",
    "\n",
    "They provide flexibility to adapt data to specific analyses or visualizations, preparing it for meaningful insights and ensuring data quality."
   ]
  },
  {
   "cell_type": "code",
   "execution_count": 21,
   "id": "542ea8d7-66fd-4fbb-9785-ae12f21aa41c",
   "metadata": {
    "id": "542ea8d7-66fd-4fbb-9785-ae12f21aa41c"
   },
   "outputs": [],
   "source": [
    "# Element-wise addition\n",
    "result_series = series + series_with_index\n",
    "\n",
    "# Apply a function to each element\n",
    "squared_series = series.apply(lambda x: x**2)\n",
    "\n",
    "# Map values using a dictionary\n",
    "mapped_series = series.map({1: 'one', 2: 'two', 3: 'three'})\n",
    "\n",
    "# Sort the Series by values\n",
    "sorted_series = series.sort_values()\n",
    "\n",
    "# Check for missing values\n",
    "missing_values = series.isnull()\n",
    "\n",
    "# Fill missing values with a specified value\n",
    "filled_series = series.fillna(0)"
   ]
  },
  {
   "cell_type": "markdown",
   "id": "121da6d4-b523-49dd-8bb0-0e9c14a04a69",
   "metadata": {
    "id": "121da6d4-b523-49dd-8bb0-0e9c14a04a69"
   },
   "source": [
    "### Querying a Series__\n",
    "Selecting and filtering data based on specific conditions is an essential aspect of querying a Pandas Series.\n",
    "\n",
    "The following examples illustrate common querying operations that can be applied to a Pandas Series:"
   ]
  },
  {
   "cell_type": "code",
   "execution_count": 22,
   "id": "49037fe5-0fbf-4ddc-961b-348affd39867",
   "metadata": {
    "id": "49037fe5-0fbf-4ddc-961b-348affd39867",
    "outputId": "01f56920-257e-4d0e-dd42-7e297f589e32"
   },
   "outputs": [
    {
     "name": "stdout",
     "output_type": "stream",
     "text": [
      "Original Series:\n",
      "a    10\n",
      "b    20\n",
      "c    30\n",
      "d    40\n",
      "e    50\n",
      "dtype: int64\n",
      "\n",
      "Selected greater than 30:\n",
      "d    40\n",
      "e    50\n",
      "dtype: int64\n",
      "\n",
      "Selected equal To 20:\n",
      "b    20\n",
      "dtype: int64\n",
      "\n",
      "Selected not equal to 40:\n",
      "a    10\n",
      "b    20\n",
      "c    30\n",
      "e    50\n",
      "dtype: int64\n",
      "\n",
      "Selected based on multiple conditions:\n",
      "c    30\n",
      "d    40\n",
      "dtype: int64\n",
      "\n",
      "Selected based on list of values:\n",
      "b    20\n",
      "d    40\n",
      "dtype: int64\n",
      "\n",
      "Selected based on string method (startswith):\n",
      "1    banana\n",
      "dtype: object\n",
      "\n",
      "Selected based on index labels:\n",
      "a    10\n",
      "c    30\n",
      "e    50\n",
      "dtype: int64\n",
      "\n",
      "Selected based on numeric position:\n",
      "b    20\n",
      "c    30\n",
      "d    40\n",
      "dtype: int64\n"
     ]
    }
   ],
   "source": [
    "import pandas as pd\n",
    "\n",
    "# Create a Pandas Series\n",
    "data = {'a': 10, 'b': 20, 'c': 30, 'd': 40, 'e': 50}\n",
    "series = pd.Series(data)\n",
    "\n",
    "# Select elements greater than 30\n",
    "selected_greater_than_30 = series[series > 30]\n",
    "\n",
    "# Select elements equal to 20\n",
    "selected_equal_to_20 = series[series == 20]\n",
    "\n",
    "# Select elements not equal to 40\n",
    "selected_not_equal_to_40 = series[series != 40]\n",
    "\n",
    "# Select elements based on multiple conditions\n",
    "selected_multiple_conditions = series[(series > 20) & (series < 50)]\n",
    "\n",
    "# Select elements based on a list of values\n",
    "selected_by_list = series[series.isin([20, 40, 60])]\n",
    "\n",
    "# Select elements using string methods (if applicable)\n",
    "string_series = pd.Series(['apple', 'banana', 'cherry', 'date', 'elderberry'])\n",
    "selected_by_string_method = string_series[string_series.str.startswith('b')]\n",
    "\n",
    "# Query based on index labels\n",
    "selected_by_index_labels = series.loc[['a', 'c', 'e']]\n",
    "\n",
    "# Query based on numeric position\n",
    "selected_by_numeric_position = series.iloc[1:4]\n",
    "\n",
    "# Display the results\n",
    "print(\"Original Series:\")\n",
    "print(series)\n",
    "print(\"\\nSelected greater than 30:\")\n",
    "print(selected_greater_than_30)\n",
    "print(\"\\nSelected equal To 20:\")\n",
    "print(selected_equal_to_20)\n",
    "print(\"\\nSelected not equal to 40:\")\n",
    "print(selected_not_equal_to_40)\n",
    "print(\"\\nSelected based on multiple conditions:\")\n",
    "print(selected_multiple_conditions)\n",
    "print(\"\\nSelected based on list of values:\")\n",
    "print(selected_by_list)\n",
    "print(\"\\nSelected based on string method (startswith):\")\n",
    "print(selected_by_string_method)\n",
    "print(\"\\nSelected based on index labels:\")\n",
    "print(selected_by_index_labels)\n",
    "print(\"\\nSelected based on numeric position:\")\n",
    "print(selected_by_numeric_position)"
   ]
  },
  {
   "cell_type": "markdown",
   "id": "9e883c5a-f17e-4288-9974-5989e4a41280",
   "metadata": {
    "id": "9e883c5a-f17e-4288-9974-5989e4a41280"
   },
   "source": [
    "## __Problem Statement:__\n",
    "Use Pandas Series to analyze sales data for a retail store over a week and draw insights from the data."
   ]
  },
  {
   "cell_type": "markdown",
   "id": "5314d501-3cd9-4e86-8861-cbf71a0a3a51",
   "metadata": {
    "id": "5314d501-3cd9-4e86-8861-cbf71a0a3a51"
   },
   "source": [
    "## __Steps to Perform__\n",
    "\n",
    "1. Create a Pandas Series for sales data\n",
    "- Use a list of daily sales figures to create a Pandas Series\n",
    "- Assign days of the week as the index\n",
    "2. Access and manipulate sales data\n",
    "- Access sales data for specific days using index labels\n",
    "- Calculate total sales for the week\n",
    "- Identify the day with the highest and lowest sales\n",
    "   \n",
    "3. Basic analysis of sales data\n",
    "- Calculate the average sales for the week\n",
    "- Determine the days with sales figures significantly different from the average"
   ]
  },
  {
   "cell_type": "code",
   "execution_count": 23,
   "id": "81991eb5-51c2-4bb3-a900-9136e975970a",
   "metadata": {
    "id": "81991eb5-51c2-4bb3-a900-9136e975970a"
   },
   "outputs": [
    {
     "name": "stdout",
     "output_type": "stream",
     "text": [
      "Sales on Monday: 250\n",
      "Sales on Friday: 500\n",
      "Total sales for the week: 2850\n",
      "Day with highest sales: Saturday - Sales: 600\n",
      "Day with lowest sales: Monday - Sales: 250\n",
      "Average sales for the week: 407.14285714285717\n",
      "Days with significantly different sales from the average:\n",
      "Monday      250\n",
      "Tuesday     300\n",
      "Friday      500\n",
      "Saturday    600\n",
      "dtype: int64\n"
     ]
    }
   ],
   "source": [
    "import pandas as pd\n",
    "\n",
    "# 1. Create a Pandas Series for sales data\n",
    "sales_data = [250, 300, 400, 350, 500, 600, 450]  #  sales figures\n",
    "week_days = ['Monday', 'Tuesday', 'Wednesday', 'Thursday', 'Friday', 'Saturday', 'Sunday']\n",
    "\n",
    "# Create Pandas Series\n",
    "sales_series = pd.Series(sales_data, index=week_days)\n",
    "\n",
    "# 2. Access and manipulate sales data\n",
    "# Access sales for specific days\n",
    "print(\"Sales on Monday:\", sales_series['Monday'])\n",
    "print(\"Sales on Friday:\", sales_series['Friday'])\n",
    "\n",
    "# Calculate total sales for the week\n",
    "total_sales = sales_series.sum()\n",
    "print(\"Total sales for the week:\", total_sales)\n",
    "\n",
    "# Identify the highest and lowest sales days\n",
    "max_sales_day = sales_series.idxmax()\n",
    "min_sales_day = sales_series.idxmin()\n",
    "print(\"Day with highest sales:\", max_sales_day, \"- Sales:\", sales_series[max_sales_day])\n",
    "print(\"Day with lowest sales:\", min_sales_day, \"- Sales:\", sales_series[min_sales_day])\n",
    "\n",
    "# 3. Basic analysis of sales data\n",
    "# Calculate average sales\n",
    "average_sales = sales_series.mean()\n",
    "print(\"Average sales for the week:\", average_sales)\n",
    "\n",
    "# Identify days with sales significantly different from the average\n",
    "threshold = 0.2 * average_sales  # Set threshold as 20% deviation from average\n",
    "significant_deviation_days = sales_series[(sales_series < average_sales - threshold) | (sales_series > average_sales + threshold)]\n",
    "print(\"Days with significantly different sales from the average:\")\n",
    "print(significant_deviation_days)\n",
    "\n"
   ]
  },
  {
   "cell_type": "code",
   "execution_count": null,
   "id": "da527656",
   "metadata": {},
   "outputs": [],
   "source": []
  }
 ],
 "metadata": {
  "colab": {
   "provenance": []
  },
  "kernelspec": {
   "display_name": "env1",
   "language": "python",
   "name": "python3"
  },
  "language_info": {
   "codemirror_mode": {
    "name": "ipython",
    "version": 3
   },
   "file_extension": ".py",
   "mimetype": "text/x-python",
   "name": "python",
   "nbconvert_exporter": "python",
   "pygments_lexer": "ipython3",
   "version": "3.11.11"
  }
 },
 "nbformat": 4,
 "nbformat_minor": 5
}
