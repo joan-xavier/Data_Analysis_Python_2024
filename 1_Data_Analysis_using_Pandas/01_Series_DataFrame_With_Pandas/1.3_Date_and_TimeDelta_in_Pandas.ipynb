{
 "cells": [
  {
   "cell_type": "markdown",
   "id": "96d07990-8cfd-4872-b726-fefbee158f01",
   "metadata": {
    "id": "96d07990-8cfd-4872-b726-fefbee158f01"
   },
   "source": [
    "# __Date and TimeDelta in Pandas__"
   ]
  },
  {
   "cell_type": "markdown",
   "id": "f2c0c254-6526-4552-9ea8-a382738bd7d1",
   "metadata": {
    "id": "f2c0c254-6526-4552-9ea8-a382738bd7d1"
   },
   "source": [
    "## __Agenda__\n",
    "\n",
    "- Date and TimeDelta in Pandas\n",
    "- Date Handling in Pandas\n",
    "  * Extracting Components from Dates\n",
    "- Timedelta in Pandas\n",
    "  * Creating a Timedelta\n",
    "  * Performing Arithmetic Operations\n",
    "  * Resampling Time Series Data\n",
    "- Categorical Data Handling\n",
    "  * Creating a Categorical Variable\n",
    "  * Counting Occurrences of Each Category\n",
    "  * Creating Dummy Variables\n",
    "  * Label Encoding"
   ]
  },
  {
   "cell_type": "markdown",
   "id": "9379d000-7c17-4e58-8db6-daab42e868ab",
   "metadata": {
    "id": "9379d000-7c17-4e58-8db6-daab42e868ab"
   },
   "source": [
    "##  __1. Date and TimeDelta in Pandas__"
   ]
  },
  {
   "cell_type": "markdown",
   "id": "3a6851fe-3799-4043-8f3b-e8ecd3b4d87a",
   "metadata": {
    "id": "3a6851fe-3799-4043-8f3b-e8ecd3b4d87a"
   },
   "source": [
    "In Pandas, the datetime module provides robust functionality for handling date and time data, while the timedelta class allows for convenient manipulation of time intervals. This combination is particularly useful for time-based analysis and working with temporal data in a DataFrame."
   ]
  },
  {
   "cell_type": "markdown",
   "id": "61f93b4c-92b4-4f84-a512-687b4667e4bf",
   "metadata": {
    "id": "61f93b4c-92b4-4f84-a512-687b4667e4bf"
   },
   "source": [
    "## __2. Date Handling in Pandas__\n",
    "#### Creating a Date Range:\n",
    "\n",
    "- The date_range function is used to generate a sequence of dates within a specified range.\n",
    "- It is a powerful tool for creating time indices or date columns in a DataFrame.\n",
    "- The start and end parameters define the range, while freq determines the frequency, such as daily (D) or monthly (M)."
   ]
  },
  {
   "cell_type": "code",
   "execution_count": 20,
   "id": "088c2a47-9627-42a8-a3bc-1120a38fbc3a",
   "metadata": {
    "colab": {
     "base_uri": "https://localhost:8080/"
    },
    "executionInfo": {
     "elapsed": 872,
     "status": "ok",
     "timestamp": 1716223073591,
     "user": {
      "displayName": "Ashish Jangid",
      "userId": "15170006874299393728"
     },
     "user_tz": -330
    },
    "id": "088c2a47-9627-42a8-a3bc-1120a38fbc3a",
    "outputId": "54228509-9c6f-4508-dc99-ad29d582940b"
   },
   "outputs": [
    {
     "name": "stdout",
     "output_type": "stream",
     "text": [
      "DatetimeIndex(['2024-01-01', '2024-01-02', '2024-01-03', '2024-01-04',\n",
      "               '2024-01-05', '2024-01-06', '2024-01-07', '2024-01-08',\n",
      "               '2024-01-09', '2024-01-10'],\n",
      "              dtype='datetime64[ns]', freq='D')\n"
     ]
    }
   ],
   "source": [
    "import pandas as pd\n",
    "\n",
    "# Generate a date range\n",
    "date_range = pd.date_range(start='2024-01-01', end='2024-01-10', freq='D')\n",
    "print(date_range)"
   ]
  },
  {
   "cell_type": "markdown",
   "id": "59c42b56-9eaa-4900-bdd0-8a4f9521e805",
   "metadata": {
    "id": "59c42b56-9eaa-4900-bdd0-8a4f9521e805"
   },
   "source": [
    "### __2.1 Extracting Components from Dates__\n",
    "\n",
    "Pandas provides the dt accessor to extract various components (Example: day, month, year) from a date column in a DataFrame. This is valuable for time-based analysis when specific date attributes need to be considered."
   ]
  },
  {
   "cell_type": "code",
   "execution_count": 21,
   "id": "9baa59c5-08ba-4cb0-bf01-ff8c83076ad3",
   "metadata": {
    "colab": {
     "base_uri": "https://localhost:8080/"
    },
    "executionInfo": {
     "elapsed": 1406,
     "status": "ok",
     "timestamp": 1716223090911,
     "user": {
      "displayName": "Ashish Jangid",
      "userId": "15170006874299393728"
     },
     "user_tz": -330
    },
    "id": "9baa59c5-08ba-4cb0-bf01-ff8c83076ad3",
    "outputId": "4d118b05-3a16-4bed-cd81-d5e973c11b80"
   },
   "outputs": [
    {
     "name": "stdout",
     "output_type": "stream",
     "text": [
      "        Date  Day  Month  Year\n",
      "0 2024-01-01    1      1  2024\n",
      "1 2024-02-15   15      2  2024\n",
      "2 2024-03-20   20      3  2024\n"
     ]
    }
   ],
   "source": [
    "import pandas as pd\n",
    "\n",
    "# Assuming 'df' is your DataFrame with a 'Date' column\n",
    "data = {'Date': ['2024-01-01', '2024-02-15', '2024-03-20']}\n",
    "df = pd.DataFrame(data)\n",
    "df['Date'] = pd.to_datetime(df['Date'])\n",
    "\n",
    "# Extracting day, month, and year information\n",
    "df['Day'] = df['Date'].dt.day\n",
    "df['Month'] = df['Date'].dt.month\n",
    "df['Year'] = df['Date'].dt.year\n",
    "\n",
    "# Displaying the DataFrame with extracted information\n",
    "print(df[['Date', 'Day', 'Month', 'Year']])\n"
   ]
  },
  {
   "cell_type": "code",
   "execution_count": 22,
   "id": "200a9114-8143-45f1-afc6-57371bf95ac1",
   "metadata": {
    "colab": {
     "base_uri": "https://localhost:8080/"
    },
    "executionInfo": {
     "elapsed": 960,
     "status": "ok",
     "timestamp": 1716223096696,
     "user": {
      "displayName": "Ashish Jangid",
      "userId": "15170006874299393728"
     },
     "user_tz": -330
    },
    "id": "200a9114-8143-45f1-afc6-57371bf95ac1",
    "outputId": "9d2a0f9f-afa3-4d31-b517-6a4c0272797b"
   },
   "outputs": [
    {
     "name": "stdout",
     "output_type": "stream",
     "text": [
      "        Date  Weekday  IsWeekend\n",
      "0 2024-01-01        0      False\n",
      "1 2024-01-02        1      False\n",
      "2 2024-01-03        2      False\n",
      "3 2024-01-04        3      False\n",
      "4 2024-01-05        4      False\n"
     ]
    }
   ],
   "source": [
    "# Extracting weekday and weekend information\n",
    "df = pd.DataFrame({'Date': pd.date_range(start='2024-01-01', periods=5)})\n",
    "df['Weekday'] = df['Date'].dt.weekday\n",
    "df['IsWeekend'] = df['Date'].dt.weekday // 5 == 1\n",
    "print(df[['Date', 'Weekday', 'IsWeekend']])"
   ]
  },
  {
   "cell_type": "code",
   "execution_count": 23,
   "id": "d2918f88-17ff-4801-a3ff-5344efd9566b",
   "metadata": {
    "colab": {
     "base_uri": "https://localhost:8080/"
    },
    "executionInfo": {
     "elapsed": 835,
     "status": "ok",
     "timestamp": 1716223100825,
     "user": {
      "displayName": "Ashish Jangid",
      "userId": "15170006874299393728"
     },
     "user_tz": -330
    },
    "id": "d2918f88-17ff-4801-a3ff-5344efd9566b",
    "outputId": "2af824e8-221c-4e25-d0d2-771547815c53"
   },
   "outputs": [
    {
     "name": "stdout",
     "output_type": "stream",
     "text": [
      "        Date PreviousDate   NextDate\n",
      "0 2024-01-01   2023-12-31 2024-01-02\n",
      "1 2024-01-02   2024-01-01 2024-01-03\n",
      "2 2024-01-03   2024-01-02 2024-01-04\n",
      "3 2024-01-04   2024-01-03 2024-01-05\n",
      "4 2024-01-05   2024-01-04 2024-01-06\n"
     ]
    }
   ],
   "source": [
    "# Shifting dates forward or backward\n",
    "df['Date'] = pd.to_datetime(df['Date'])\n",
    "df['PreviousDate'] = df['Date'] - pd.Timedelta(days=1)\n",
    "df['NextDate'] = df['Date'] + pd.Timedelta(days=1)\n",
    "print(df[['Date', 'PreviousDate', 'NextDate']])"
   ]
  },
  {
   "cell_type": "markdown",
   "id": "4792b42e-900d-4f92-bbc6-542870e6d5da",
   "metadata": {
    "id": "4792b42e-900d-4f92-bbc6-542870e6d5da"
   },
   "source": [
    "## __3. Timedelta in Pandas__\n",
    "### __3.1 Creating a Timedelta__\n",
    "\n",
    "- The Timedelta class in Pandas represents a duration or the difference between two dates or times.\n",
    "- It can be created by specifying the desired duration, such as days, hours, or minutes."
   ]
  },
  {
   "cell_type": "code",
   "execution_count": 24,
   "id": "9d89abda-51ca-4966-b4b4-73e6714f8c45",
   "metadata": {
    "executionInfo": {
     "elapsed": 864,
     "status": "ok",
     "timestamp": 1716223161798,
     "user": {
      "displayName": "Ashish Jangid",
      "userId": "15170006874299393728"
     },
     "user_tz": -330
    },
    "id": "9d89abda-51ca-4966-b4b4-73e6714f8c45"
   },
   "outputs": [
    {
     "name": "stderr",
     "output_type": "stream",
     "text": [
      "C:\\Users\\hp\\AppData\\Local\\Temp\\ipykernel_23440\\2149610715.py:4: FutureWarning: 'H' is deprecated and will be removed in a future version, please use 'h' instead.\n",
      "  'Date': pd.date_range(start='2024-01-01', periods=10, freq='H'),\n"
     ]
    }
   ],
   "source": [
    "import pandas as pd\n",
    "\n",
    "data = {\n",
    "    'Date': pd.date_range(start='2024-01-01', periods=10, freq='H'),\n",
    "    'Value1': range(10),\n",
    "    'Value2': range(10, 20)\n",
    "}\n",
    "df = pd.DataFrame(data)\n",
    "\n",
    "# Creating a timedelta of 3 days\n",
    "delta = pd.Timedelta(days=3)"
   ]
  },
  {
   "cell_type": "markdown",
   "id": "5b21c669-9d8c-447e-b083-b3459b061ca5",
   "metadata": {
    "id": "5b21c669-9d8c-447e-b083-b3459b061ca5"
   },
   "source": [
    "### __3.2 Performing Arithmetic Operations__\n",
    "\n",
    "Timedelta objects can be used to perform arithmetic operations on dates. For example, adding a timedelta to a date results in a new date. This is useful for calculating future or past dates based on a given time interval."
   ]
  },
  {
   "cell_type": "code",
   "execution_count": 25,
   "id": "eab9fbc7-47e1-42c3-8b82-032a888f7aa0",
   "metadata": {
    "colab": {
     "base_uri": "https://localhost:8080/"
    },
    "executionInfo": {
     "elapsed": 894,
     "status": "ok",
     "timestamp": 1716223200449,
     "user": {
      "displayName": "Ashish Jangid",
      "userId": "15170006874299393728"
     },
     "user_tz": -330
    },
    "id": "eab9fbc7-47e1-42c3-8b82-032a888f7aa0",
    "outputId": "470ee14e-c10a-4da7-e19a-34799737af14"
   },
   "outputs": [
    {
     "name": "stdout",
     "output_type": "stream",
     "text": [
      "                 Date          FutureDate\n",
      "0 2024-01-01 00:00:00 2024-01-18 12:00:00\n",
      "1 2024-01-01 01:00:00 2024-01-18 13:00:00\n",
      "2 2024-01-01 02:00:00 2024-01-18 14:00:00\n",
      "3 2024-01-01 03:00:00 2024-01-18 15:00:00\n",
      "4 2024-01-01 04:00:00 2024-01-18 16:00:00\n",
      "5 2024-01-01 05:00:00 2024-01-18 17:00:00\n",
      "6 2024-01-01 06:00:00 2024-01-18 18:00:00\n",
      "7 2024-01-01 07:00:00 2024-01-18 19:00:00\n",
      "8 2024-01-01 08:00:00 2024-01-18 20:00:00\n",
      "9 2024-01-01 09:00:00 2024-01-18 21:00:00\n"
     ]
    }
   ],
   "source": [
    "# Performing arithmetic operations with timedeltas\n",
    "df['Date'] = pd.to_datetime(df['Date'])\n",
    "df['FutureDate'] = df['Date'] + pd.Timedelta(weeks=2, days=3, hours=12)\n",
    "print(df[['Date', 'FutureDate']])"
   ]
  },
  {
   "cell_type": "markdown",
   "id": "fb5e48ae-4311-424a-9ac6-b8d23d6e6f16",
   "metadata": {
    "id": "fb5e48ae-4311-424a-9ac6-b8d23d6e6f16"
   },
   "source": [
    "### __3.3 Resampling Time Series Data__\n",
    "\n",
    "Time series data often comes with irregular time intervals. Resampling is the process of changing the frequency of the time series data, either by upsampling (increasing frequency) or downsampling (decreasing frequency)."
   ]
  },
  {
   "cell_type": "code",
   "execution_count": 26,
   "id": "b81812ca-9c8c-4ade-9a97-ded6e1133af9",
   "metadata": {
    "colab": {
     "base_uri": "https://localhost:8080/"
    },
    "executionInfo": {
     "elapsed": 784,
     "status": "ok",
     "timestamp": 1716223217342,
     "user": {
      "displayName": "Ashish Jangid",
      "userId": "15170006874299393728"
     },
     "user_tz": -330
    },
    "id": "b81812ca-9c8c-4ade-9a97-ded6e1133af9",
    "outputId": "40a18fba-ce35-48e9-d673-a58d45fc94b5"
   },
   "outputs": [
    {
     "name": "stdout",
     "output_type": "stream",
     "text": [
      "            Value1  Value2\n",
      "Date                      \n",
      "2024-01-01      45     145\n"
     ]
    }
   ],
   "source": [
    "# Resampling time series data\n",
    "df.set_index('Date', inplace=True)\n",
    "df_resampled = df.select_dtypes(include='number').resample('D').sum()\n",
    "print(df_resampled)"
   ]
  },
  {
   "cell_type": "markdown",
   "id": "413faca5-4dad-4dae-8321-e32f738f4914",
   "metadata": {
    "id": "413faca5-4dad-4dae-8321-e32f738f4914"
   },
   "source": [
    "## __4. Categorical Data Handling__"
   ]
  },
  {
   "cell_type": "markdown",
   "id": "412f361a-e782-4cf1-9077-24bf22df04f8",
   "metadata": {
    "id": "412f361a-e782-4cf1-9077-24bf22df04f8"
   },
   "source": [
    "### __4.1 Creating a Categorical Variable__\n",
    "Pandas provides the categorical class to create a categorical variable. Categorical variables are useful when dealing with data that can be divided into distinct, non-numeric categories."
   ]
  },
  {
   "cell_type": "code",
   "execution_count": 27,
   "id": "8fa9bf49-c928-4e3c-b71a-c4fd646affe3",
   "metadata": {
    "colab": {
     "base_uri": "https://localhost:8080/"
    },
    "executionInfo": {
     "elapsed": 846,
     "status": "ok",
     "timestamp": 1716223228222,
     "user": {
      "displayName": "Ashish Jangid",
      "userId": "15170006874299393728"
     },
     "user_tz": -330
    },
    "id": "8fa9bf49-c928-4e3c-b71a-c4fd646affe3",
    "outputId": "5a4fe493-ac08-45ac-83bf-467b8fa78bc4"
   },
   "outputs": [
    {
     "name": "stdout",
     "output_type": "stream",
     "text": [
      "['Low', 'Medium', 'High', 'Low', 'High']\n",
      "Categories (3, object): ['Low' < 'Medium' < 'High']\n"
     ]
    }
   ],
   "source": [
    "import pandas as pd\n",
    "\n",
    "# Creating a categorical variable\n",
    "categories = ['Low', 'Medium', 'High']\n",
    "values = ['Low', 'Medium', 'High', 'Low', 'High']\n",
    "cat_variable = pd.Categorical(values, categories=categories, ordered=True)\n",
    "print(cat_variable)\n"
   ]
  },
  {
   "cell_type": "markdown",
   "id": "a3bade92-7a3f-4cda-8a44-096dfc52ebb1",
   "metadata": {
    "id": "a3bade92-7a3f-4cda-8a44-096dfc52ebb1"
   },
   "source": [
    "### __4.2 Counting Occurrences of Each Category__\n",
    "The value_counts() method is used to count the occurrences of each category in a categorical column of a DataFrame."
   ]
  },
  {
   "cell_type": "code",
   "execution_count": 28,
   "id": "cb152b53-38f2-4c3d-a05c-0a2abc1bfc22",
   "metadata": {
    "colab": {
     "base_uri": "https://localhost:8080/"
    },
    "executionInfo": {
     "elapsed": 596,
     "status": "ok",
     "timestamp": 1716223231542,
     "user": {
      "displayName": "Ashish Jangid",
      "userId": "15170006874299393728"
     },
     "user_tz": -330
    },
    "id": "cb152b53-38f2-4c3d-a05c-0a2abc1bfc22",
    "outputId": "a2f233e1-896b-48a4-a7bc-1bc95b793a8f"
   },
   "outputs": [
    {
     "name": "stdout",
     "output_type": "stream",
     "text": [
      "Category\n",
      "A    3\n",
      "B    2\n",
      "C    1\n",
      "Name: count, dtype: int64\n"
     ]
    }
   ],
   "source": [
    "# Assuming 'df' is your DataFrame with a 'Category' column\n",
    "df = pd.DataFrame({'Category': ['A', 'B', 'A', 'C', 'B', 'A']})\n",
    "\n",
    "# Counting occurrences of each category\n",
    "category_counts = df['Category'].value_counts()\n",
    "print(category_counts)\n"
   ]
  },
  {
   "cell_type": "markdown",
   "id": "c649182d-5d19-4547-adf2-aebbffefc357",
   "metadata": {
    "id": "c649182d-5d19-4547-adf2-aebbffefc357"
   },
   "source": [
    "### __4.3 Creating Dummy Variables__\n",
    "\n",
    "When working with machine learning models or statistical analyses, creating dummy variables is often necessary to represent categorical data numerically. The get_dummies function creates binary columns for each category, effectively converting categorical data into a numerical format."
   ]
  },
  {
   "cell_type": "code",
   "execution_count": 29,
   "id": "83965746-dca8-4c1c-897b-8e5082a7f88a",
   "metadata": {
    "colab": {
     "base_uri": "https://localhost:8080/"
    },
    "executionInfo": {
     "elapsed": 5,
     "status": "ok",
     "timestamp": 1716223234313,
     "user": {
      "displayName": "Ashish Jangid",
      "userId": "15170006874299393728"
     },
     "user_tz": -330
    },
    "id": "83965746-dca8-4c1c-897b-8e5082a7f88a",
    "outputId": "6419dcb0-85fd-40ed-a0c7-be848555cf42"
   },
   "outputs": [
    {
     "name": "stdout",
     "output_type": "stream",
     "text": [
      "   Category_A  Category_B  Category_C\n",
      "0        True       False       False\n",
      "1       False        True       False\n",
      "2        True       False       False\n",
      "3       False       False        True\n",
      "4       False        True       False\n",
      "5        True       False       False\n"
     ]
    }
   ],
   "source": [
    "# Assuming 'df' is your DataFrame with a 'Category' column\n",
    "df = pd.DataFrame({'Category': ['A', 'B', 'A', 'C', 'B', 'A']})\n",
    "\n",
    "# Creating dummy variables for categorical data\n",
    "dummy_variables = pd.get_dummies(df['Category'], prefix='Category')\n",
    "print(dummy_variables)\n"
   ]
  },
  {
   "cell_type": "markdown",
   "id": "91c6a672-361e-44a5-8e37-b922ab856d1b",
   "metadata": {
    "id": "91c6a672-361e-44a5-8e37-b922ab856d1b"
   },
   "source": [
    "### __4.4 Label Encoding__\n",
    "\n",
    "Another way to handle categorical data is through label encoding, where each category is assigned a unique numerical label. This is useful in scenarios where ordinal relationships exist between categories."
   ]
  },
  {
   "cell_type": "code",
   "execution_count": 30,
   "id": "1de03cd5-8f37-4b90-8fea-2a568f044c31",
   "metadata": {
    "colab": {
     "base_uri": "https://localhost:8080/"
    },
    "executionInfo": {
     "elapsed": 591,
     "status": "ok",
     "timestamp": 1716223237014,
     "user": {
      "displayName": "Ashish Jangid",
      "userId": "15170006874299393728"
     },
     "user_tz": -330
    },
    "id": "1de03cd5-8f37-4b90-8fea-2a568f044c31",
    "outputId": "66eabd55-f512-4985-eb37-b9a3b422139f"
   },
   "outputs": [
    {
     "name": "stdout",
     "output_type": "stream",
     "text": [
      "  Category  Category_LabelEncoded\n",
      "0        A                      0\n",
      "1        B                      1\n",
      "2        A                      0\n",
      "3        C                      2\n",
      "4        B                      1\n",
      "5        A                      0\n"
     ]
    }
   ],
   "source": [
    "# Assuming 'df' is your DataFrame with a 'Category' column\n",
    "df = pd.DataFrame({'Category': ['A', 'B', 'A', 'C', 'B', 'A']})\n",
    "\n",
    "# Label Encoding\n",
    "df['Category_LabelEncoded'] = df['Category'].astype('category').cat.codes\n",
    "print(df[['Category', 'Category_LabelEncoded']])\n"
   ]
  }
 ],
 "metadata": {
  "colab": {
   "provenance": []
  },
  "kernelspec": {
   "display_name": "env1",
   "language": "python",
   "name": "python3"
  },
  "language_info": {
   "codemirror_mode": {
    "name": "ipython",
    "version": 3
   },
   "file_extension": ".py",
   "mimetype": "text/x-python",
   "name": "python",
   "nbconvert_exporter": "python",
   "pygments_lexer": "ipython3",
   "version": "3.11.11"
  }
 },
 "nbformat": 4,
 "nbformat_minor": 5
}
