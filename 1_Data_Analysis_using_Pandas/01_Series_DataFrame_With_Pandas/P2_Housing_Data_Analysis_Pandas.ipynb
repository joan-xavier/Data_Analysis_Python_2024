{
 "cells": [
  {
   "cell_type": "markdown",
   "metadata": {},
   "source": [
    "##__Analyze the housing dataset with a focus on handling date and categorical data to gain insights into house sales over time and the influence of house characteristics on its price. \n",
    "Given : housing_data.csv"
   ]
  },
  {
   "cell_type": "markdown",
   "metadata": {},
   "source": [
    "## __Steps to Perform:__\n",
    "- Convert the __YearBuilt__ and __YearRemodAdd__ columns to datetime format (if not converted)\n",
    "- Extract useful components from the date like the year, month, or day\n",
    "- Calculate the time difference between the year the house was built and the year it was remodeled\n",
    "- Perform necessary arithmetic operations\n",
    "- Count the number of occurrences of each category in categorical features\n",
    "- Create dummy variables for categorical variables"
   ]
  },
  {
   "cell_type": "code",
   "execution_count": 1,
   "metadata": {},
   "outputs": [],
   "source": [
    "import pandas as pd\n",
    "\n",
    "# Load the dataset\n",
    "housing_data = pd.read_csv('housing_data.csv')\n"
   ]
  },
  {
   "cell_type": "code",
   "execution_count": 2,
   "metadata": {},
   "outputs": [],
   "source": [
    "\n",
    "# Convert YearBuilt and YearRemodAdd to datetime format\n",
    "housing_data['YearBuilt'] = pd.to_datetime(housing_data['YearBuilt'], format='%Y')\n",
    "housing_data['YearRemodAdd'] = pd.to_datetime(housing_data['YearRemodAdd'], format='%Y')\n"
   ]
  },
  {
   "cell_type": "code",
   "execution_count": 3,
   "metadata": {},
   "outputs": [],
   "source": [
    "\n",
    "# Extract useful components from date\n",
    "housing_data['YearBuilt_Year'] = housing_data['YearBuilt'].dt.year\n",
    "housing_data['YearRemodAdd_Year'] = housing_data['YearRemodAdd'].dt.year\n"
   ]
  },
  {
   "cell_type": "code",
   "execution_count": 4,
   "metadata": {},
   "outputs": [],
   "source": [
    "\n",
    "# Calculate the time difference between YearBuilt and YearRemodAdd\n",
    "housing_data['YearsSinceRemodel'] = housing_data['YearRemodAdd_Year'] - housing_data['YearBuilt_Year']\n"
   ]
  },
  {
   "cell_type": "code",
   "execution_count": 5,
   "metadata": {},
   "outputs": [],
   "source": [
    "\n",
    "# Count the occurrences of each category in categorical features\n",
    "categorical_cols = housing_data.select_dtypes(include=['object']).columns\n",
    "category_counts = {col: housing_data[col].value_counts() for col in categorical_cols}\n"
   ]
  },
  {
   "cell_type": "code",
   "execution_count": 6,
   "metadata": {},
   "outputs": [],
   "source": [
    "\n",
    "# Convert categorical variables into dummy variables\n",
    "housing_data = pd.get_dummies(housing_data, columns=categorical_cols, drop_first=True)\n"
   ]
  },
  {
   "cell_type": "code",
   "execution_count": 7,
   "metadata": {},
   "outputs": [
    {
     "name": "stdout",
     "output_type": "stream",
     "text": [
      "   Unnamed: 0  LotFrontage  LotArea  OverallQual  OverallCond  YearBuilt  \\\n",
      "0           0         65.0     8450            7            5 2003-01-01   \n",
      "1           1         80.0     9600            6            8 1976-01-01   \n",
      "2           2         68.0    11250            7            5 2001-01-01   \n",
      "3           3         60.0     9550            7            5 1915-01-01   \n",
      "4           4         84.0    14260            8            5 2000-01-01   \n",
      "\n",
      "  YearRemodAdd  MasVnrArea  BsmtFinSF1  BsmtFinSF2  ...  SaleType_ConLI  \\\n",
      "0   2003-01-01       196.0         706           0  ...           False   \n",
      "1   1976-01-01         0.0         978           0  ...           False   \n",
      "2   2002-01-01       162.0         486           0  ...           False   \n",
      "3   1970-01-01         0.0         216           0  ...           False   \n",
      "4   2000-01-01       350.0         655           0  ...           False   \n",
      "\n",
      "   SaleType_ConLw  SaleType_New  SaleType_Oth  SaleType_WD  \\\n",
      "0           False         False         False         True   \n",
      "1           False         False         False         True   \n",
      "2           False         False         False         True   \n",
      "3           False         False         False         True   \n",
      "4           False         False         False         True   \n",
      "\n",
      "   SaleCondition_AdjLand  SaleCondition_Alloca  SaleCondition_Family  \\\n",
      "0                  False                 False                 False   \n",
      "1                  False                 False                 False   \n",
      "2                  False                 False                 False   \n",
      "3                  False                 False                 False   \n",
      "4                  False                 False                 False   \n",
      "\n",
      "   SaleCondition_Normal  SaleCondition_Partial  \n",
      "0                  True                  False  \n",
      "1                  True                  False  \n",
      "2                  True                  False  \n",
      "3                 False                  False  \n",
      "4                  True                  False  \n",
      "\n",
      "[5 rows x 284 columns]\n"
     ]
    }
   ],
   "source": [
    "\n",
    "# Display a preview of the processed data\n",
    "print(housing_data.head())\n"
   ]
  },
  {
   "cell_type": "code",
   "execution_count": 8,
   "metadata": {},
   "outputs": [],
   "source": [
    "\n",
    "# Optionally, save the processed data to a CSV file for further analysis\n",
    "housing_data.to_csv(\"processed_housing_data.csv\", index=False)\n",
    "\n"
   ]
  }
 ],
 "metadata": {
  "kernelspec": {
   "display_name": "env1",
   "language": "python",
   "name": "python3"
  },
  "language_info": {
   "codemirror_mode": {
    "name": "ipython",
    "version": 3
   },
   "file_extension": ".py",
   "mimetype": "text/x-python",
   "name": "python",
   "nbconvert_exporter": "python",
   "pygments_lexer": "ipython3",
   "version": "3.11.11"
  }
 },
 "nbformat": 4,
 "nbformat_minor": 2
}
