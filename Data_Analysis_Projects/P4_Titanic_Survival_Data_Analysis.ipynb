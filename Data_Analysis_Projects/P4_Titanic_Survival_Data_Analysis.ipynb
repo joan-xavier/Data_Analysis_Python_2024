{
 "cells": [
  {
   "cell_type": "markdown",
   "metadata": {},
   "source": []
  },
  {
   "cell_type": "code",
   "execution_count": null,
   "metadata": {},
   "outputs": [],
   "source": [
    "import pandas as pd\n",
    "import numpy as np\n",
    "import seaborn as sns\n",
    "import matplotlib.pyplot as plt\n",
    "\n",
    "# Load dataset\n",
    "file_path = \"/mnt/data/Titanic.csv\"\n",
    "df = pd.read_csv(file_path)\n",
    "\n",
    "# Display basic info\n",
    "display(df.info())\n",
    "display(df.head())\n",
    "\n",
    "def data_cleaning(df):\n",
    "    \"\"\"Function to clean and preprocess Titanic dataset.\"\"\"\n",
    "    # Handling missing values\n",
    "    df['age'].fillna(df['age'].median(), inplace=True)\n",
    "    df['embarked'].fillna(df['embarked'].mode()[0], inplace=True)\n",
    "    \n",
    "    # Convert categorical features\n",
    "    df['sex'] = df['sex'].map({'male': 0, 'female': 1})\n",
    "    df['alone'] = df['alone'].astype(int)\n",
    "    \n",
    "    return df\n",
    "\n",
    "df = data_cleaning(df)\n",
    "\n",
    "# Exploratory Data Analysis (EDA)\n",
    "plt.figure(figsize=(8, 5))\n",
    "sns.countplot(x='survived', data=df, palette='coolwarm')\n",
    "plt.title(\"Survival Count\")\n",
    "plt.show()\n",
    "\n",
    "plt.figure(figsize=(8, 5))\n",
    "sns.boxplot(x='survived', y='age', data=df, palette='coolwarm')\n",
    "plt.title(\"Age Distribution by Survival\")\n",
    "plt.show()\n",
    "\n",
    "plt.figure(figsize=(10, 6))\n",
    "sns.histplot(df['fare'], bins=30, kde=True, color='purple')\n",
    "plt.title('Distribution of Fare Prices')\n",
    "plt.show()\n",
    "\n",
    "plt.figure(figsize=(8, 5))\n",
    "sns.countplot(x='class', hue='survived', data=df, palette='coolwarm')\n",
    "plt.title(\"Survival by Passenger Class\")\n",
    "plt.show()\n",
    "\n",
    "plt.figure(figsize=(8, 5))\n",
    "sns.heatmap(df.corr(), annot=True, cmap='coolwarm', fmt='.2f')\n",
    "plt.title(\"Correlation Heatmap\")\n",
    "plt.show()\n",
    "\n",
    "print(\"Data Analysis Completed Successfully!\")\n"
   ]
  }
 ],
 "metadata": {
  "language_info": {
   "name": "python"
  }
 },
 "nbformat": 4,
 "nbformat_minor": 2
}
